{
 "cells": [
  {
   "cell_type": "markdown",
   "metadata": {},
   "source": [
    "# Introduction"
   ]
  },
  {
   "cell_type": "markdown",
   "metadata": {},
   "source": [
    "### Group Member: Zhiyi Guo (zg2350), Yujie Wang (yw3442), Congcheng Yan (cy2550), Banruo Xie (bx2168)\n",
    "The project below builds two collaborative filtering models, item-based method and model-based method, that used some open sourced packages and methods to implement our objective to recommend movies based on movie user score database. The most important metrics are generating similarity matrix for item-based method and rating matrix for model-based method in order to compare effectiveness in practical case by calculating their accurateness.\n",
    "\n",
    "For business purpose, this project is primarily designed for internal company use. After comparing different methods' usefulness in database, discussion will be further made for final decision of letting which models will be put into real world application to recommend movies for users. The model with more accuracy and usefulness will be selected. Our business rule is to using recommendation to improve customer satisfaction, user engagement and increase the number of short-term users to long-term user. Therefore, the better recommendation model can help us increase users and improve revenue."
   ]
  },
  {
   "cell_type": "markdown",
   "metadata": {},
   "source": [
    "# Data Preprocessing"
   ]
  },
  {
   "cell_type": "markdown",
   "metadata": {},
   "source": [
    "We are trying to optimize Pearson coefficient by trying to get better MSE and NDCG in our metrics. We sacrifice the movie genre, timeslot to simplify our model. As for our model, it will automatically prefer popular items since it have more raw data recorded. The database is randomly selected with around 2 million ratings and 0.4 million tag applications across 27 thousand movies. After rearranging the dataset to 3 dimensions for userId, movieId and rating, then we group by userID to use top 10 percent of user who have rate the movie most. Similarly, we use 10 percent of movieID that are rated most by users. The reason is that the detailed rating of user and movie can generate more accurate model below.\n"
   ]
  },
  {
   "cell_type": "code",
   "execution_count": 1,
   "metadata": {},
   "outputs": [],
   "source": [
    "import pandas as pd\n",
    "import numpy as np\n",
    "import math\n",
    "from random import sample\n",
    "from scipy.stats import pearsonr\n",
    "from sklearn.model_selection import train_test_split\n",
    "from sklearn.metrics import mean_squared_error\n",
    "import matplotlib.pyplot as plt\n",
    "import time\n",
    "import warnings\n",
    "warnings.filterwarnings('ignore')"
   ]
  },
  {
   "cell_type": "code",
   "execution_count": 2,
   "metadata": {},
   "outputs": [
    {
     "data": {
      "text/html": [
       "<div>\n",
       "<style scoped>\n",
       "    .dataframe tbody tr th:only-of-type {\n",
       "        vertical-align: middle;\n",
       "    }\n",
       "\n",
       "    .dataframe tbody tr th {\n",
       "        vertical-align: top;\n",
       "    }\n",
       "\n",
       "    .dataframe thead th {\n",
       "        text-align: right;\n",
       "    }\n",
       "</style>\n",
       "<table border=\"1\" class=\"dataframe\">\n",
       "  <thead>\n",
       "    <tr style=\"text-align: right;\">\n",
       "      <th></th>\n",
       "      <th>userId</th>\n",
       "      <th>movieId</th>\n",
       "      <th>rating</th>\n",
       "    </tr>\n",
       "  </thead>\n",
       "  <tbody>\n",
       "    <tr>\n",
       "      <th>0</th>\n",
       "      <td>1</td>\n",
       "      <td>2</td>\n",
       "      <td>3.5</td>\n",
       "    </tr>\n",
       "    <tr>\n",
       "      <th>1</th>\n",
       "      <td>1</td>\n",
       "      <td>29</td>\n",
       "      <td>3.5</td>\n",
       "    </tr>\n",
       "    <tr>\n",
       "      <th>2</th>\n",
       "      <td>1</td>\n",
       "      <td>32</td>\n",
       "      <td>3.5</td>\n",
       "    </tr>\n",
       "    <tr>\n",
       "      <th>3</th>\n",
       "      <td>1</td>\n",
       "      <td>47</td>\n",
       "      <td>3.5</td>\n",
       "    </tr>\n",
       "    <tr>\n",
       "      <th>4</th>\n",
       "      <td>1</td>\n",
       "      <td>50</td>\n",
       "      <td>3.5</td>\n",
       "    </tr>\n",
       "  </tbody>\n",
       "</table>\n",
       "</div>"
      ],
      "text/plain": [
       "   userId  movieId  rating\n",
       "0       1        2     3.5\n",
       "1       1       29     3.5\n",
       "2       1       32     3.5\n",
       "3       1       47     3.5\n",
       "4       1       50     3.5"
      ]
     },
     "execution_count": 2,
     "metadata": {},
     "output_type": "execute_result"
    }
   ],
   "source": [
    "'''import ratings data, drop the timestamp'''\n",
    "origin_data=pd.read_csv('./ml-20m/ratings.csv')\n",
    "origin_data=origin_data.drop([\"timestamp\"],axis=1)\n",
    "origin_data.head()"
   ]
  },
  {
   "cell_type": "code",
   "execution_count": 3,
   "metadata": {},
   "outputs": [],
   "source": [
    "'''group by useraID, and then choose top 10 percent userid that give the most quantity of ratings'''\n",
    "c_userId=origin_data.groupby([\"userId\"]).count()\n",
    "c_userId.sort_values(by=\"rating\", ascending=False)\n",
    "\n",
    "k1=c_userId[\"rating\"].quantile(0.9)\n",
    "c_userId=c_userId[c_userId[\"rating\"]>k1]\n",
    "\n",
    "t1=c_userId.index.values"
   ]
  },
  {
   "cell_type": "code",
   "execution_count": 4,
   "metadata": {},
   "outputs": [],
   "source": [
    "'''group by moveiID, then choose top 10 percent of movie that have most rating given by users'''\n",
    "c_movieId=origin_data.groupby([\"movieId\"]).count()\n",
    "c_movieId.sort_values(by=\"rating\", ascending=False)\n",
    "\n",
    "k2=c_movieId[\"rating\"].quantile(0.9)\n",
    "c_movieId=c_movieId[c_movieId[\"rating\"]>k2]\n",
    "\n",
    "t2=c_movieId.index.values"
   ]
  },
  {
   "cell_type": "code",
   "execution_count": 5,
   "metadata": {},
   "outputs": [
    {
     "data": {
      "text/html": [
       "<div>\n",
       "<style scoped>\n",
       "    .dataframe tbody tr th:only-of-type {\n",
       "        vertical-align: middle;\n",
       "    }\n",
       "\n",
       "    .dataframe tbody tr th {\n",
       "        vertical-align: top;\n",
       "    }\n",
       "\n",
       "    .dataframe thead th {\n",
       "        text-align: right;\n",
       "    }\n",
       "</style>\n",
       "<table border=\"1\" class=\"dataframe\">\n",
       "  <thead>\n",
       "    <tr style=\"text-align: right;\">\n",
       "      <th></th>\n",
       "      <th>userId</th>\n",
       "      <th>movieId</th>\n",
       "      <th>rating</th>\n",
       "    </tr>\n",
       "  </thead>\n",
       "  <tbody>\n",
       "    <tr>\n",
       "      <th>962</th>\n",
       "      <td>11</td>\n",
       "      <td>19</td>\n",
       "      <td>3.5</td>\n",
       "    </tr>\n",
       "    <tr>\n",
       "      <th>966</th>\n",
       "      <td>11</td>\n",
       "      <td>110</td>\n",
       "      <td>4.0</td>\n",
       "    </tr>\n",
       "    <tr>\n",
       "      <th>968</th>\n",
       "      <td>11</td>\n",
       "      <td>150</td>\n",
       "      <td>5.0</td>\n",
       "    </tr>\n",
       "    <tr>\n",
       "      <th>971</th>\n",
       "      <td>11</td>\n",
       "      <td>160</td>\n",
       "      <td>4.0</td>\n",
       "    </tr>\n",
       "    <tr>\n",
       "      <th>973</th>\n",
       "      <td>11</td>\n",
       "      <td>170</td>\n",
       "      <td>5.0</td>\n",
       "    </tr>\n",
       "  </tbody>\n",
       "</table>\n",
       "</div>"
      ],
      "text/plain": [
       "     userId  movieId  rating\n",
       "962      11       19     3.5\n",
       "966      11      110     4.0\n",
       "968      11      150     5.0\n",
       "971      11      160     4.0\n",
       "973      11      170     5.0"
      ]
     },
     "execution_count": 5,
     "metadata": {},
     "output_type": "execute_result"
    }
   ],
   "source": [
    "'''choose 10000 users and 1000 movies as sample'''\n",
    "t1=sample(t1.tolist(),10000)\n",
    "t2=sample(t2.tolist(),1000)\n",
    "\n",
    "data=origin_data[origin_data['userId'].isin(t1)]\n",
    "data=data[data['movieId'].isin(t2)]\n",
    "data.head()"
   ]
  },
  {
   "cell_type": "code",
   "execution_count": 6,
   "metadata": {},
   "outputs": [
    {
     "data": {
      "text/html": [
       "<div>\n",
       "<style scoped>\n",
       "    .dataframe tbody tr th:only-of-type {\n",
       "        vertical-align: middle;\n",
       "    }\n",
       "\n",
       "    .dataframe tbody tr th {\n",
       "        vertical-align: top;\n",
       "    }\n",
       "\n",
       "    .dataframe thead th {\n",
       "        text-align: right;\n",
       "    }\n",
       "</style>\n",
       "<table border=\"1\" class=\"dataframe\">\n",
       "  <thead>\n",
       "    <tr style=\"text-align: right;\">\n",
       "      <th>userId</th>\n",
       "      <th>11</th>\n",
       "      <th>24</th>\n",
       "      <th>54</th>\n",
       "      <th>58</th>\n",
       "      <th>91</th>\n",
       "      <th>104</th>\n",
       "      <th>116</th>\n",
       "      <th>131</th>\n",
       "      <th>132</th>\n",
       "      <th>134</th>\n",
       "      <th>...</th>\n",
       "      <th>138343</th>\n",
       "      <th>138382</th>\n",
       "      <th>138387</th>\n",
       "      <th>138397</th>\n",
       "      <th>138404</th>\n",
       "      <th>138406</th>\n",
       "      <th>138411</th>\n",
       "      <th>138437</th>\n",
       "      <th>138454</th>\n",
       "      <th>138472</th>\n",
       "    </tr>\n",
       "    <tr>\n",
       "      <th>movieId</th>\n",
       "      <th></th>\n",
       "      <th></th>\n",
       "      <th></th>\n",
       "      <th></th>\n",
       "      <th></th>\n",
       "      <th></th>\n",
       "      <th></th>\n",
       "      <th></th>\n",
       "      <th></th>\n",
       "      <th></th>\n",
       "      <th></th>\n",
       "      <th></th>\n",
       "      <th></th>\n",
       "      <th></th>\n",
       "      <th></th>\n",
       "      <th></th>\n",
       "      <th></th>\n",
       "      <th></th>\n",
       "      <th></th>\n",
       "      <th></th>\n",
       "      <th></th>\n",
       "    </tr>\n",
       "  </thead>\n",
       "  <tbody>\n",
       "    <tr>\n",
       "      <th>2</th>\n",
       "      <td>NaN</td>\n",
       "      <td>NaN</td>\n",
       "      <td>3.0</td>\n",
       "      <td>NaN</td>\n",
       "      <td>3.5</td>\n",
       "      <td>NaN</td>\n",
       "      <td>2.0</td>\n",
       "      <td>1.0</td>\n",
       "      <td>3.0</td>\n",
       "      <td>NaN</td>\n",
       "      <td>...</td>\n",
       "      <td>2.5</td>\n",
       "      <td>4.0</td>\n",
       "      <td>3.5</td>\n",
       "      <td>NaN</td>\n",
       "      <td>2.5</td>\n",
       "      <td>3.0</td>\n",
       "      <td>NaN</td>\n",
       "      <td>NaN</td>\n",
       "      <td>NaN</td>\n",
       "      <td>NaN</td>\n",
       "    </tr>\n",
       "    <tr>\n",
       "      <th>3</th>\n",
       "      <td>NaN</td>\n",
       "      <td>NaN</td>\n",
       "      <td>NaN</td>\n",
       "      <td>NaN</td>\n",
       "      <td>3.0</td>\n",
       "      <td>NaN</td>\n",
       "      <td>2.0</td>\n",
       "      <td>NaN</td>\n",
       "      <td>NaN</td>\n",
       "      <td>NaN</td>\n",
       "      <td>...</td>\n",
       "      <td>NaN</td>\n",
       "      <td>3.0</td>\n",
       "      <td>3.5</td>\n",
       "      <td>5.0</td>\n",
       "      <td>NaN</td>\n",
       "      <td>NaN</td>\n",
       "      <td>NaN</td>\n",
       "      <td>NaN</td>\n",
       "      <td>NaN</td>\n",
       "      <td>NaN</td>\n",
       "    </tr>\n",
       "    <tr>\n",
       "      <th>5</th>\n",
       "      <td>NaN</td>\n",
       "      <td>2.0</td>\n",
       "      <td>3.0</td>\n",
       "      <td>NaN</td>\n",
       "      <td>NaN</td>\n",
       "      <td>NaN</td>\n",
       "      <td>NaN</td>\n",
       "      <td>NaN</td>\n",
       "      <td>NaN</td>\n",
       "      <td>NaN</td>\n",
       "      <td>...</td>\n",
       "      <td>NaN</td>\n",
       "      <td>NaN</td>\n",
       "      <td>2.5</td>\n",
       "      <td>NaN</td>\n",
       "      <td>NaN</td>\n",
       "      <td>NaN</td>\n",
       "      <td>NaN</td>\n",
       "      <td>NaN</td>\n",
       "      <td>NaN</td>\n",
       "      <td>NaN</td>\n",
       "    </tr>\n",
       "    <tr>\n",
       "      <th>7</th>\n",
       "      <td>NaN</td>\n",
       "      <td>3.0</td>\n",
       "      <td>NaN</td>\n",
       "      <td>NaN</td>\n",
       "      <td>2.5</td>\n",
       "      <td>NaN</td>\n",
       "      <td>NaN</td>\n",
       "      <td>NaN</td>\n",
       "      <td>NaN</td>\n",
       "      <td>NaN</td>\n",
       "      <td>...</td>\n",
       "      <td>NaN</td>\n",
       "      <td>3.0</td>\n",
       "      <td>3.0</td>\n",
       "      <td>NaN</td>\n",
       "      <td>3.5</td>\n",
       "      <td>NaN</td>\n",
       "      <td>NaN</td>\n",
       "      <td>NaN</td>\n",
       "      <td>NaN</td>\n",
       "      <td>NaN</td>\n",
       "    </tr>\n",
       "    <tr>\n",
       "      <th>9</th>\n",
       "      <td>NaN</td>\n",
       "      <td>NaN</td>\n",
       "      <td>NaN</td>\n",
       "      <td>NaN</td>\n",
       "      <td>NaN</td>\n",
       "      <td>NaN</td>\n",
       "      <td>1.5</td>\n",
       "      <td>NaN</td>\n",
       "      <td>NaN</td>\n",
       "      <td>NaN</td>\n",
       "      <td>...</td>\n",
       "      <td>NaN</td>\n",
       "      <td>NaN</td>\n",
       "      <td>NaN</td>\n",
       "      <td>NaN</td>\n",
       "      <td>NaN</td>\n",
       "      <td>NaN</td>\n",
       "      <td>NaN</td>\n",
       "      <td>NaN</td>\n",
       "      <td>NaN</td>\n",
       "      <td>NaN</td>\n",
       "    </tr>\n",
       "  </tbody>\n",
       "</table>\n",
       "<p>5 rows × 10000 columns</p>\n",
       "</div>"
      ],
      "text/plain": [
       "userId   11      24      54      58      91      104     116     131     \\\n",
       "movieId                                                                   \n",
       "2           NaN     NaN     3.0     NaN     3.5     NaN     2.0     1.0   \n",
       "3           NaN     NaN     NaN     NaN     3.0     NaN     2.0     NaN   \n",
       "5           NaN     2.0     3.0     NaN     NaN     NaN     NaN     NaN   \n",
       "7           NaN     3.0     NaN     NaN     2.5     NaN     NaN     NaN   \n",
       "9           NaN     NaN     NaN     NaN     NaN     NaN     1.5     NaN   \n",
       "\n",
       "userId   132     134     ...  138343  138382  138387  138397  138404  138406  \\\n",
       "movieId                  ...                                                   \n",
       "2           3.0     NaN  ...     2.5     4.0     3.5     NaN     2.5     3.0   \n",
       "3           NaN     NaN  ...     NaN     3.0     3.5     5.0     NaN     NaN   \n",
       "5           NaN     NaN  ...     NaN     NaN     2.5     NaN     NaN     NaN   \n",
       "7           NaN     NaN  ...     NaN     3.0     3.0     NaN     3.5     NaN   \n",
       "9           NaN     NaN  ...     NaN     NaN     NaN     NaN     NaN     NaN   \n",
       "\n",
       "userId   138411  138437  138454  138472  \n",
       "movieId                                  \n",
       "2           NaN     NaN     NaN     NaN  \n",
       "3           NaN     NaN     NaN     NaN  \n",
       "5           NaN     NaN     NaN     NaN  \n",
       "7           NaN     NaN     NaN     NaN  \n",
       "9           NaN     NaN     NaN     NaN  \n",
       "\n",
       "[5 rows x 10000 columns]"
      ]
     },
     "execution_count": 6,
     "metadata": {},
     "output_type": "execute_result"
    }
   ],
   "source": [
    "'''change data format for future use'''\n",
    "result=data.pivot_table('rating','movieId','userId')\n",
    "result.head()"
   ]
  },
  {
   "cell_type": "markdown",
   "metadata": {},
   "source": [
    "# Collaborative Filtering"
   ]
  },
  {
   "cell_type": "markdown",
   "metadata": {},
   "source": [
    "## Neighborhood-based (item-based)"
   ]
  },
  {
   "cell_type": "markdown",
   "metadata": {},
   "source": [
    "Algorithm:<br>\n",
    "1.determine a set of peers for every user<br>\n",
    "2.calculate the similarity of each user within the peer set, comparing users on items that they have both rated<br>\n",
    "3.use prediction function to fill in a user's missing rating--weighted average mean-centered rating from the users in the peer set."
   ]
  },
  {
   "cell_type": "markdown",
   "metadata": {},
   "source": [
    "(1) $\\mu_u=\\frac{\\sum_{k \\in I_u} r_{uk}}{|I_u|}$ <br>\n",
    "(2) $s_{uj}=r_{uj}-\\mu_u$<br>\n",
    "(3) $r_{uj}=\\mu_u+\\frac{\\sum_{v \\in P_u(j)} Sim(u,v)(r_{vj}-\\mu_v)}{\\sum_{v \\in P_u(j)}|Sim(u,v)|}$"
   ]
  },
  {
   "cell_type": "markdown",
   "metadata": {},
   "source": [
    "For the first step, to determine the nearest neighbor for user, we use Pearson's correlation coefficient to find user's peer set. Pearson's correlation is the covariance of the two variables divided by the product of their standard deviations."
   ]
  },
  {
   "cell_type": "code",
   "execution_count": 7,
   "metadata": {},
   "outputs": [],
   "source": [
    "'''\n",
    "We use pearson coefficient to find similarity between all items.\n",
    "Input: original dataframe\n",
    "Output: similarity matrix of all item in original dataframe\n",
    "'''\n",
    "def update_pearson(df):\n",
    "    val_arr=df.values.copy()\n",
    "    corr=[]\n",
    "    for i in range(0, len(val_arr)):\n",
    "        valid=sorted(np.argwhere(~np.isnan(val_arr[i])).flatten())\n",
    "        corr.append(valid)\n",
    "\n",
    "    values=df.values.copy()\n",
    "    arr=np.zeros((df.shape[0],df.shape[0]))\n",
    "    for i in range(0, len(values)):\n",
    "        for j in range(i, len(values)):\n",
    "            row1=values[i]\n",
    "            row2=values[j]\n",
    "            valid1=corr[i]\n",
    "            valid2=corr[j]\n",
    "            common=list(set(valid1) & set(valid2))\n",
    "            if len(common)<=2:\n",
    "                arr[i,j]=0\n",
    "                arr[j,i]=0\n",
    "                continue\n",
    "            row_1=row1[common]\n",
    "            row_2=row2[common]\n",
    "            pearson=pearsonr(row_1,row_2)[0]\n",
    "            arr[i,j]=pearson\n",
    "            arr[j,i]=pearson\n",
    "            d=pd.DataFrame(arr)\n",
    "    return d"
   ]
  },
  {
   "cell_type": "code",
   "execution_count": 8,
   "metadata": {},
   "outputs": [],
   "source": [
    "'''\n",
    "Predict ratings for each item and user in original dataframe.\n",
    "Input: original dataframe, top k similar movies for each movie\n",
    "Output: a dataframe with all predicted ratings\n",
    "'''\n",
    "def predict(df,k):\n",
    "    mu=df.mean(axis=1).values\n",
    "    d=update_pearson(df)\n",
    "    d=d.where(d.apply(lambda x: x.isin(x.nlargest(k)),axis=0),0)\n",
    "    p_sum=d.abs().sum(axis=1).values\n",
    "    subtract=df.sub(df.mean(axis=1), axis=0)\n",
    "    r=np.where(np.isnan(d.values),0,d.values).dot(np.where(np.isnan(subtract.values),0,subtract.values))\n",
    "    cp=df.values.copy()\n",
    "    \n",
    "    for (i,j), values in np.ndenumerate(cp):\n",
    "        values=r[i,j]/p_sum[i]+mu[i]\n",
    "        cp[i][j]=values\n",
    "        \n",
    "    df_result=pd.DataFrame(cp)\n",
    "    df_result.columns=list(df.columns)\n",
    "    df_result.index=list(df.index)\n",
    "    \n",
    "    return(df_result)"
   ]
  },
  {
   "cell_type": "code",
   "execution_count": 9,
   "metadata": {},
   "outputs": [],
   "source": [
    "'''predict matrix'''\n",
    "start1=time.time()\n",
    "df_result=predict(result,10)\n",
    "end1=time.time()"
   ]
  },
  {
   "cell_type": "code",
   "execution_count": 10,
   "metadata": {},
   "outputs": [
    {
     "name": "stdout",
     "output_type": "stream",
     "text": [
      "4.877385902404785\n"
     ]
    }
   ],
   "source": [
    "'''running time'''\n",
    "run1=(end1-start1)/60\n",
    "print(run1)"
   ]
  },
  {
   "cell_type": "code",
   "execution_count": 11,
   "metadata": {},
   "outputs": [
    {
     "data": {
      "text/html": [
       "<div>\n",
       "<style scoped>\n",
       "    .dataframe tbody tr th:only-of-type {\n",
       "        vertical-align: middle;\n",
       "    }\n",
       "\n",
       "    .dataframe tbody tr th {\n",
       "        vertical-align: top;\n",
       "    }\n",
       "\n",
       "    .dataframe thead th {\n",
       "        text-align: right;\n",
       "    }\n",
       "</style>\n",
       "<table border=\"1\" class=\"dataframe\">\n",
       "  <thead>\n",
       "    <tr style=\"text-align: right;\">\n",
       "      <th></th>\n",
       "      <th>11</th>\n",
       "      <th>24</th>\n",
       "      <th>54</th>\n",
       "      <th>58</th>\n",
       "      <th>91</th>\n",
       "      <th>104</th>\n",
       "      <th>116</th>\n",
       "      <th>131</th>\n",
       "      <th>132</th>\n",
       "      <th>134</th>\n",
       "      <th>...</th>\n",
       "      <th>138343</th>\n",
       "      <th>138382</th>\n",
       "      <th>138387</th>\n",
       "      <th>138397</th>\n",
       "      <th>138404</th>\n",
       "      <th>138406</th>\n",
       "      <th>138411</th>\n",
       "      <th>138437</th>\n",
       "      <th>138454</th>\n",
       "      <th>138472</th>\n",
       "    </tr>\n",
       "  </thead>\n",
       "  <tbody>\n",
       "    <tr>\n",
       "      <th>2</th>\n",
       "      <td>3.650201</td>\n",
       "      <td>3.523008</td>\n",
       "      <td>3.096786</td>\n",
       "      <td>3.181269</td>\n",
       "      <td>3.483095</td>\n",
       "      <td>2.865869</td>\n",
       "      <td>2.344753</td>\n",
       "      <td>1.432106</td>\n",
       "      <td>2.708789</td>\n",
       "      <td>3.054077</td>\n",
       "      <td>...</td>\n",
       "      <td>2.616706</td>\n",
       "      <td>4.324833</td>\n",
       "      <td>3.697641</td>\n",
       "      <td>3.294961</td>\n",
       "      <td>3.059299</td>\n",
       "      <td>3.090368</td>\n",
       "      <td>3.080415</td>\n",
       "      <td>3.187688</td>\n",
       "      <td>3.294961</td>\n",
       "      <td>2.865869</td>\n",
       "    </tr>\n",
       "    <tr>\n",
       "      <th>3</th>\n",
       "      <td>2.887435</td>\n",
       "      <td>2.611037</td>\n",
       "      <td>2.826133</td>\n",
       "      <td>2.887435</td>\n",
       "      <td>2.991444</td>\n",
       "      <td>2.887435</td>\n",
       "      <td>1.801330</td>\n",
       "      <td>2.611037</td>\n",
       "      <td>2.887435</td>\n",
       "      <td>2.887435</td>\n",
       "      <td>...</td>\n",
       "      <td>2.887435</td>\n",
       "      <td>3.098992</td>\n",
       "      <td>3.201770</td>\n",
       "      <td>4.232831</td>\n",
       "      <td>2.933682</td>\n",
       "      <td>2.887435</td>\n",
       "      <td>2.826133</td>\n",
       "      <td>2.887435</td>\n",
       "      <td>2.887435</td>\n",
       "      <td>2.887435</td>\n",
       "    </tr>\n",
       "    <tr>\n",
       "      <th>5</th>\n",
       "      <td>2.983060</td>\n",
       "      <td>2.723498</td>\n",
       "      <td>2.809197</td>\n",
       "      <td>2.801129</td>\n",
       "      <td>2.853593</td>\n",
       "      <td>2.665760</td>\n",
       "      <td>2.207179</td>\n",
       "      <td>2.523033</td>\n",
       "      <td>2.584133</td>\n",
       "      <td>2.766781</td>\n",
       "      <td>...</td>\n",
       "      <td>2.735592</td>\n",
       "      <td>2.757304</td>\n",
       "      <td>2.919253</td>\n",
       "      <td>3.158770</td>\n",
       "      <td>3.097063</td>\n",
       "      <td>2.880937</td>\n",
       "      <td>2.768739</td>\n",
       "      <td>2.725628</td>\n",
       "      <td>2.819821</td>\n",
       "      <td>2.859689</td>\n",
       "    </tr>\n",
       "    <tr>\n",
       "      <th>7</th>\n",
       "      <td>3.099870</td>\n",
       "      <td>3.035435</td>\n",
       "      <td>3.099870</td>\n",
       "      <td>3.099870</td>\n",
       "      <td>2.712841</td>\n",
       "      <td>3.099870</td>\n",
       "      <td>3.099870</td>\n",
       "      <td>3.099870</td>\n",
       "      <td>2.961400</td>\n",
       "      <td>3.099870</td>\n",
       "      <td>...</td>\n",
       "      <td>3.099870</td>\n",
       "      <td>3.035435</td>\n",
       "      <td>3.035435</td>\n",
       "      <td>3.099870</td>\n",
       "      <td>3.358029</td>\n",
       "      <td>3.099870</td>\n",
       "      <td>3.099870</td>\n",
       "      <td>3.099870</td>\n",
       "      <td>3.099870</td>\n",
       "      <td>3.099870</td>\n",
       "    </tr>\n",
       "    <tr>\n",
       "      <th>9</th>\n",
       "      <td>2.695276</td>\n",
       "      <td>2.552629</td>\n",
       "      <td>2.691245</td>\n",
       "      <td>2.603933</td>\n",
       "      <td>2.536863</td>\n",
       "      <td>2.448319</td>\n",
       "      <td>1.919593</td>\n",
       "      <td>2.469157</td>\n",
       "      <td>2.525822</td>\n",
       "      <td>2.477285</td>\n",
       "      <td>...</td>\n",
       "      <td>2.487839</td>\n",
       "      <td>2.689166</td>\n",
       "      <td>2.495774</td>\n",
       "      <td>2.772044</td>\n",
       "      <td>2.650885</td>\n",
       "      <td>2.508121</td>\n",
       "      <td>2.635882</td>\n",
       "      <td>2.436912</td>\n",
       "      <td>2.525822</td>\n",
       "      <td>2.525822</td>\n",
       "    </tr>\n",
       "  </tbody>\n",
       "</table>\n",
       "<p>5 rows × 10000 columns</p>\n",
       "</div>"
      ],
      "text/plain": [
       "     11        24        54        58        91        104       116     \\\n",
       "2  3.650201  3.523008  3.096786  3.181269  3.483095  2.865869  2.344753   \n",
       "3  2.887435  2.611037  2.826133  2.887435  2.991444  2.887435  1.801330   \n",
       "5  2.983060  2.723498  2.809197  2.801129  2.853593  2.665760  2.207179   \n",
       "7  3.099870  3.035435  3.099870  3.099870  2.712841  3.099870  3.099870   \n",
       "9  2.695276  2.552629  2.691245  2.603933  2.536863  2.448319  1.919593   \n",
       "\n",
       "     131       132       134     ...    138343    138382    138387    138397  \\\n",
       "2  1.432106  2.708789  3.054077  ...  2.616706  4.324833  3.697641  3.294961   \n",
       "3  2.611037  2.887435  2.887435  ...  2.887435  3.098992  3.201770  4.232831   \n",
       "5  2.523033  2.584133  2.766781  ...  2.735592  2.757304  2.919253  3.158770   \n",
       "7  3.099870  2.961400  3.099870  ...  3.099870  3.035435  3.035435  3.099870   \n",
       "9  2.469157  2.525822  2.477285  ...  2.487839  2.689166  2.495774  2.772044   \n",
       "\n",
       "     138404    138406    138411    138437    138454    138472  \n",
       "2  3.059299  3.090368  3.080415  3.187688  3.294961  2.865869  \n",
       "3  2.933682  2.887435  2.826133  2.887435  2.887435  2.887435  \n",
       "5  3.097063  2.880937  2.768739  2.725628  2.819821  2.859689  \n",
       "7  3.358029  3.099870  3.099870  3.099870  3.099870  3.099870  \n",
       "9  2.650885  2.508121  2.635882  2.436912  2.525822  2.525822  \n",
       "\n",
       "[5 rows x 10000 columns]"
      ]
     },
     "execution_count": 11,
     "metadata": {},
     "output_type": "execute_result"
    }
   ],
   "source": [
    "'''show predicted matrix below'''\n",
    "df_result.head()"
   ]
  },
  {
   "cell_type": "markdown",
   "metadata": {},
   "source": [
    "### Recommend"
   ]
  },
  {
   "cell_type": "code",
   "execution_count": 31,
   "metadata": {},
   "outputs": [],
   "source": [
    "'''\n",
    "Use predicted dataframe to recommend movies to a specific user\n",
    "Input: predicted dataframe, how many movies recommend to a user, userid\n",
    "Output: userid, movieid, predicted rating\n",
    "'''\n",
    "def recommend(df, k, userid):\n",
    "    index=list(df.nlargest(k, userid).iloc[:,0].index)\n",
    "    rating=list(df.nlargest(k, userid).iloc[:,0].values)\n",
    "    rec=zip([userid]*k,index,rating)\n",
    "    return list(rec)"
   ]
  },
  {
   "cell_type": "code",
   "execution_count": 20,
   "metadata": {},
   "outputs": [
    {
     "data": {
      "text/plain": [
       "[(54, 3361, 3.719271035284994),\n",
       " (54, 1197, 4.0),\n",
       " (54, 1286, 3.4609756097560975),\n",
       " (54, 2391, 3.724432948666932),\n",
       " (54, 2890, 3.603629845395474)]"
      ]
     },
     "execution_count": 20,
     "metadata": {},
     "output_type": "execute_result"
    }
   ],
   "source": [
    "recommend(df_result, 5, 54)"
   ]
  },
  {
   "cell_type": "markdown",
   "metadata": {},
   "source": [
    "### Evaluation"
   ]
  },
  {
   "cell_type": "markdown",
   "metadata": {},
   "source": [
    "We choose mse as our primary accuracy metric and ndcg as our secondary accuracy metric."
   ]
  },
  {
   "cell_type": "code",
   "execution_count": 21,
   "metadata": {},
   "outputs": [],
   "source": [
    "'''\n",
    "Use cross validation to tune k (neighborhood size)\n",
    "Input: cross validation fold, top k similar movies for each movie\n",
    "Output: an evaluation list with mean mse and mean ndcg score\n",
    "'''\n",
    "def cross_validation(n,k):\n",
    "    mse=[]\n",
    "    ndcg=[]\n",
    "    \n",
    "    for i in range(n):\n",
    "        X_train, X_test, y_train, y_test = train_test_split(data[['userId','movieId']], data.rating, test_size=0.2)\n",
    "        X_train['rating']=y_train\n",
    "        test = pd.concat([X_test,y_test ], axis=1)\n",
    "        result_train = X_train.pivot_table('rating','movieId','userId')\n",
    "        comp=predict(result_train, k)\n",
    "        comp['id'] =list(result_train.index)\n",
    "        comp=pd.melt(comp, id_vars=['id'])\n",
    "        comp.rename(columns = {'id':'userId', 'variable':'movieId'}, inplace = True) \n",
    "        test['userId']=test['userId'].astype(int)\n",
    "        test['movieId']=test['movieId'].astype(int)\n",
    "        comp['movieId']=comp['movieId'].astype(int)\n",
    "        comp['userId']=comp['userId'].astype(int)\n",
    "        combine = pd.merge(comp, test, how='inner', on=['userId', 'movieId'])\n",
    "        pred=combine.value\n",
    "        true=combine.rating\n",
    "        mse.append(mean_squared_error(pred, true))\n",
    "        ndcg.append(ndcg_score(true.values, pred.values, k=10, gains=\"exponential\"))\n",
    "    \n",
    "    evaluate=[]   \n",
    "    evaluate.append(sum(mse)/len(mse))\n",
    "    evaluate.append(sum(ndcg)/len(ndcg))\n",
    "    \n",
    "    return evaluate"
   ]
  },
  {
   "cell_type": "code",
   "execution_count": 22,
   "metadata": {},
   "outputs": [],
   "source": [
    "'''\n",
    "Use cross validation to tune hyperparameter k (neighborhood size)\n",
    "Input: a list of k that we want to test\n",
    "Output: a metric, each row stands for each k, the first element is mean mse, the second element is mean ndcg\n",
    "'''\n",
    "def tune_k(list_k):\n",
    "    metric=[]\n",
    "    for k in list_k:\n",
    "        metric.append(cross_validation(2,k))\n",
    "    return metric"
   ]
  },
  {
   "cell_type": "code",
   "execution_count": 23,
   "metadata": {},
   "outputs": [],
   "source": [
    "'''\n",
    "https://gist.github.com/mblondel/7337391\n",
    "Use online reference code to compute ndcg score for the model\n",
    "'''\n",
    "def dcg_score(y_true, y_score, k=10, gains=\"exponential\"):\n",
    "    order = np.argsort(y_score)[::-1]\n",
    "    y_true = np.take(y_true, order[:k])\n",
    "\n",
    "    if gains == \"exponential\":\n",
    "        gains = 2 ** y_true - 1\n",
    "    elif gains == \"linear\":\n",
    "        gains = y_true\n",
    "    else:\n",
    "        raise ValueError(\"Invalid gains option.\")\n",
    "\n",
    "    discounts = np.log2(np.arange(len(y_true)) + 2)\n",
    "    return np.sum(gains / discounts)\n",
    "\n",
    "def ndcg_score(y_true, y_score, k=10, gains=\"exponential\"):\n",
    "    best = dcg_score(y_true, y_true, k, gains)\n",
    "    actual = dcg_score(y_true, y_score, k, gains)\n",
    "    return actual/best"
   ]
  },
  {
   "cell_type": "code",
   "execution_count": null,
   "metadata": {},
   "outputs": [],
   "source": [
    "'''change hyper parameter k (neighborhood size)'''\n",
    "list_k=[5,10,50,100]\n",
    "metric1=tune_k(list_k)"
   ]
  },
  {
   "cell_type": "code",
   "execution_count": 74,
   "metadata": {},
   "outputs": [
    {
     "data": {
      "text/html": [
       "<div>\n",
       "<style scoped>\n",
       "    .dataframe tbody tr th:only-of-type {\n",
       "        vertical-align: middle;\n",
       "    }\n",
       "\n",
       "    .dataframe tbody tr th {\n",
       "        vertical-align: top;\n",
       "    }\n",
       "\n",
       "    .dataframe thead th {\n",
       "        text-align: right;\n",
       "    }\n",
       "</style>\n",
       "<table border=\"1\" class=\"dataframe\">\n",
       "  <thead>\n",
       "    <tr style=\"text-align: right;\">\n",
       "      <th></th>\n",
       "      <th>mse</th>\n",
       "      <th>ndcg</th>\n",
       "      <th>k</th>\n",
       "    </tr>\n",
       "  </thead>\n",
       "  <tbody>\n",
       "    <tr>\n",
       "      <th>0</th>\n",
       "      <td>1.593205</td>\n",
       "      <td>0.404131</td>\n",
       "      <td>5</td>\n",
       "    </tr>\n",
       "    <tr>\n",
       "      <th>1</th>\n",
       "      <td>1.625202</td>\n",
       "      <td>0.351184</td>\n",
       "      <td>10</td>\n",
       "    </tr>\n",
       "    <tr>\n",
       "      <th>2</th>\n",
       "      <td>1.552028</td>\n",
       "      <td>0.261973</td>\n",
       "      <td>50</td>\n",
       "    </tr>\n",
       "    <tr>\n",
       "      <th>3</th>\n",
       "      <td>1.534230</td>\n",
       "      <td>0.413890</td>\n",
       "      <td>100</td>\n",
       "    </tr>\n",
       "  </tbody>\n",
       "</table>\n",
       "</div>"
      ],
      "text/plain": [
       "        mse      ndcg    k\n",
       "0  1.593205  0.404131    5\n",
       "1  1.625202  0.351184   10\n",
       "2  1.552028  0.261973   50\n",
       "3  1.534230  0.413890  100"
      ]
     },
     "execution_count": 74,
     "metadata": {},
     "output_type": "execute_result"
    }
   ],
   "source": [
    "metric1=pd.DataFrame(metric1, columns=['mse','ndcg'])\n",
    "metric1['k']=list_k\n",
    "metric1"
   ]
  },
  {
   "cell_type": "code",
   "execution_count": 80,
   "metadata": {
    "scrolled": true
   },
   "outputs": [
    {
     "data": {
      "image/png": "[encoded data removed]",
      "text/plain": [
       "<Figure size 432x288 with 1 Axes>"
      ]
     },
     "metadata": {
      "needs_background": "light"
     },
     "output_type": "display_data"
    }
   ],
   "source": [
    "plt.plot('k', 'mse', data=metric, marker='', color='olive', linewidth=2, linestyle='dashed', label=\"mse\")\n",
    "plt.plot('k', 'ndcg', data=metric, marker='', color='olive', linewidth=2, label=\"ndcg\")\n",
    "plt.legend()\n",
    "plt.show()"
   ]
  },
  {
   "cell_type": "markdown",
   "metadata": {},
   "source": [
    "As the k increase from 5 to 100, mse is highest at 10, and then decrease, for ndcg, it decrease and is lowest at 50 and then increase. Base on the formula and definition of mse and ndcg, the best situation is the model have smaller mse and bigger ndcg,which is our objective. From the graph we can have that as k goes larger, the result is more closer to our objective. While the calculation and running time also increase as k increase, so we have to choose some trade-off, 'elbow method' is suggested."
   ]
  },
  {
   "cell_type": "code",
   "execution_count": 32,
   "metadata": {},
   "outputs": [],
   "source": [
    "'''\n",
    "calculate coverage\n",
    "choose some number of user to calculate the coverage percentage\n",
    "if the recommend rating is greater then the threshold rating, then we see it as success\n",
    "'''\n",
    "def coverage(number_user, threshold, number):\n",
    "    itr = 0\n",
    "    count1 = []\n",
    "    count2 = 0\n",
    "    count3 = 0\n",
    "    for i in number_user:\n",
    "        count1.append(0)\n",
    "        a = recommend(df_result, 5, i)\n",
    "        for j in range(len(a)):\n",
    "            b = a[j]\n",
    "            if threshold <= b[2]:\n",
    "                count1[itr] += 1\n",
    "        for k in count1:\n",
    "            if count1[itr] >= number:\n",
    "                count2 += 1\n",
    "        itr +=1\n",
    "    for w in range(len(count1)):\n",
    "        if count1[w] >= number:\n",
    "            count3 += 1\n",
    "    return count3/len(number_user)"
   ]
  },
  {
   "cell_type": "code",
   "execution_count": 33,
   "metadata": {
    "scrolled": true
   },
   "outputs": [
    {
     "data": {
      "text/plain": [
       "0.4"
      ]
     },
     "execution_count": 33,
     "metadata": {},
     "output_type": "execute_result"
    }
   ],
   "source": [
    "id=list(df_result.columns)\n",
    "coverage(id[0:100],4,3)"
   ]
  },
  {
   "cell_type": "markdown",
   "metadata": {},
   "source": [
    "Q: What other design choices might you consider in order to have a more accurate or more useful model?\\\n",
    "A: For item based method, we can use Jaccard similarity. Jaccard similarity between two users is the number of items that they share in common, normalized by the total number of items between two users together. It is more appropriate for binary or unary ratings, where items are either in the set, or not. We can aslo calculate the euclidean distatnce between two points, where points is the user's data. It can be converted to similarity by subtracting it from zero."
   ]
  },
  {
   "cell_type": "markdown",
   "metadata": {},
   "source": [
    "### Larger dataset"
   ]
  },
  {
   "cell_type": "code",
   "execution_count": 6,
   "metadata": {},
   "outputs": [
    {
     "data": {
      "text/html": [
       "<div>\n",
       "<style scoped>\n",
       "    .dataframe tbody tr th:only-of-type {\n",
       "        vertical-align: middle;\n",
       "    }\n",
       "\n",
       "    .dataframe tbody tr th {\n",
       "        vertical-align: top;\n",
       "    }\n",
       "\n",
       "    .dataframe thead th {\n",
       "        text-align: right;\n",
       "    }\n",
       "</style>\n",
       "<table border=\"1\" class=\"dataframe\">\n",
       "  <thead>\n",
       "    <tr style=\"text-align: right;\">\n",
       "      <th></th>\n",
       "      <th>userId</th>\n",
       "      <th>movieId</th>\n",
       "      <th>rating</th>\n",
       "    </tr>\n",
       "  </thead>\n",
       "  <tbody>\n",
       "    <tr>\n",
       "      <th>541</th>\n",
       "      <td>7</td>\n",
       "      <td>3</td>\n",
       "      <td>3.0</td>\n",
       "    </tr>\n",
       "    <tr>\n",
       "      <th>542</th>\n",
       "      <td>7</td>\n",
       "      <td>7</td>\n",
       "      <td>3.0</td>\n",
       "    </tr>\n",
       "    <tr>\n",
       "      <th>543</th>\n",
       "      <td>7</td>\n",
       "      <td>11</td>\n",
       "      <td>4.0</td>\n",
       "    </tr>\n",
       "    <tr>\n",
       "      <th>545</th>\n",
       "      <td>7</td>\n",
       "      <td>16</td>\n",
       "      <td>3.0</td>\n",
       "    </tr>\n",
       "    <tr>\n",
       "      <th>549</th>\n",
       "      <td>7</td>\n",
       "      <td>122</td>\n",
       "      <td>2.0</td>\n",
       "    </tr>\n",
       "  </tbody>\n",
       "</table>\n",
       "</div>"
      ],
      "text/plain": [
       "     userId  movieId  rating\n",
       "541       7        3     3.0\n",
       "542       7        7     3.0\n",
       "543       7       11     4.0\n",
       "545       7       16     3.0\n",
       "549       7      122     2.0"
      ]
     },
     "execution_count": 6,
     "metadata": {},
     "output_type": "execute_result"
    }
   ],
   "source": [
    "'''data preprocessing for larger dataset'''\n",
    "origin_data=pd.read_csv('./ml-20m/ratings.csv')\n",
    "origin_data=origin_data.drop([\"timestamp\"],axis=1)\n",
    "origin_data.head()\n",
    "\n",
    "c_userId=origin_data.groupby([\"userId\"]).count()\n",
    "c_userId.sort_values(by=\"rating\", ascending=False)\n",
    "\n",
    "k1=c_userId[\"rating\"].quantile(0.85)\n",
    "c_userId=c_userId[c_userId[\"rating\"]>k1]\n",
    "\n",
    "t1=c_userId.index.values\n",
    "\n",
    "c_movieId=origin_data.groupby([\"movieId\"]).count()\n",
    "c_movieId.sort_values(by=\"rating\", ascending=False)\n",
    "\n",
    "k2=c_movieId[\"rating\"].quantile(0.85)\n",
    "c_movieId=c_movieId[c_movieId[\"rating\"]>k2]\n",
    "\n",
    "t2=c_movieId.index.values\n",
    "\n",
    "t1=sample(t1.tolist(),15000)\n",
    "t2=sample(t2.tolist(),1500)\n",
    "\n",
    "data2=origin_data[origin_data['userId'].isin(t1)]\n",
    "data2=data2[data2['movieId'].isin(t2)]\n",
    "data2.head()"
   ]
  },
  {
   "cell_type": "code",
   "execution_count": 27,
   "metadata": {},
   "outputs": [
    {
     "data": {
      "text/html": [
       "<div>\n",
       "<style scoped>\n",
       "    .dataframe tbody tr th:only-of-type {\n",
       "        vertical-align: middle;\n",
       "    }\n",
       "\n",
       "    .dataframe tbody tr th {\n",
       "        vertical-align: top;\n",
       "    }\n",
       "\n",
       "    .dataframe thead th {\n",
       "        text-align: right;\n",
       "    }\n",
       "</style>\n",
       "<table border=\"1\" class=\"dataframe\">\n",
       "  <thead>\n",
       "    <tr style=\"text-align: right;\">\n",
       "      <th>userId</th>\n",
       "      <th>7</th>\n",
       "      <th>11</th>\n",
       "      <th>54</th>\n",
       "      <th>58</th>\n",
       "      <th>69</th>\n",
       "      <th>82</th>\n",
       "      <th>91</th>\n",
       "      <th>104</th>\n",
       "      <th>116</th>\n",
       "      <th>129</th>\n",
       "      <th>...</th>\n",
       "      <th>138406</th>\n",
       "      <th>138414</th>\n",
       "      <th>138437</th>\n",
       "      <th>138454</th>\n",
       "      <th>138456</th>\n",
       "      <th>138457</th>\n",
       "      <th>138472</th>\n",
       "      <th>138474</th>\n",
       "      <th>138483</th>\n",
       "      <th>138493</th>\n",
       "    </tr>\n",
       "    <tr>\n",
       "      <th>movieId</th>\n",
       "      <th></th>\n",
       "      <th></th>\n",
       "      <th></th>\n",
       "      <th></th>\n",
       "      <th></th>\n",
       "      <th></th>\n",
       "      <th></th>\n",
       "      <th></th>\n",
       "      <th></th>\n",
       "      <th></th>\n",
       "      <th></th>\n",
       "      <th></th>\n",
       "      <th></th>\n",
       "      <th></th>\n",
       "      <th></th>\n",
       "      <th></th>\n",
       "      <th></th>\n",
       "      <th></th>\n",
       "      <th></th>\n",
       "      <th></th>\n",
       "      <th></th>\n",
       "    </tr>\n",
       "  </thead>\n",
       "  <tbody>\n",
       "    <tr>\n",
       "      <th>2</th>\n",
       "      <td>NaN</td>\n",
       "      <td>NaN</td>\n",
       "      <td>3.0</td>\n",
       "      <td>NaN</td>\n",
       "      <td>NaN</td>\n",
       "      <td>NaN</td>\n",
       "      <td>3.5</td>\n",
       "      <td>NaN</td>\n",
       "      <td>2.0</td>\n",
       "      <td>3.0</td>\n",
       "      <td>...</td>\n",
       "      <td>3.0</td>\n",
       "      <td>NaN</td>\n",
       "      <td>NaN</td>\n",
       "      <td>NaN</td>\n",
       "      <td>3.0</td>\n",
       "      <td>NaN</td>\n",
       "      <td>NaN</td>\n",
       "      <td>4.0</td>\n",
       "      <td>3.0</td>\n",
       "      <td>4.0</td>\n",
       "    </tr>\n",
       "    <tr>\n",
       "      <th>4</th>\n",
       "      <td>NaN</td>\n",
       "      <td>NaN</td>\n",
       "      <td>NaN</td>\n",
       "      <td>NaN</td>\n",
       "      <td>NaN</td>\n",
       "      <td>NaN</td>\n",
       "      <td>NaN</td>\n",
       "      <td>NaN</td>\n",
       "      <td>NaN</td>\n",
       "      <td>NaN</td>\n",
       "      <td>...</td>\n",
       "      <td>NaN</td>\n",
       "      <td>NaN</td>\n",
       "      <td>NaN</td>\n",
       "      <td>NaN</td>\n",
       "      <td>NaN</td>\n",
       "      <td>NaN</td>\n",
       "      <td>NaN</td>\n",
       "      <td>NaN</td>\n",
       "      <td>NaN</td>\n",
       "      <td>NaN</td>\n",
       "    </tr>\n",
       "    <tr>\n",
       "      <th>6</th>\n",
       "      <td>NaN</td>\n",
       "      <td>NaN</td>\n",
       "      <td>3.0</td>\n",
       "      <td>4.5</td>\n",
       "      <td>4.0</td>\n",
       "      <td>NaN</td>\n",
       "      <td>NaN</td>\n",
       "      <td>NaN</td>\n",
       "      <td>1.5</td>\n",
       "      <td>NaN</td>\n",
       "      <td>...</td>\n",
       "      <td>NaN</td>\n",
       "      <td>NaN</td>\n",
       "      <td>4.0</td>\n",
       "      <td>4.0</td>\n",
       "      <td>NaN</td>\n",
       "      <td>NaN</td>\n",
       "      <td>NaN</td>\n",
       "      <td>5.0</td>\n",
       "      <td>NaN</td>\n",
       "      <td>NaN</td>\n",
       "    </tr>\n",
       "    <tr>\n",
       "      <th>7</th>\n",
       "      <td>3.0</td>\n",
       "      <td>NaN</td>\n",
       "      <td>NaN</td>\n",
       "      <td>NaN</td>\n",
       "      <td>NaN</td>\n",
       "      <td>NaN</td>\n",
       "      <td>2.5</td>\n",
       "      <td>NaN</td>\n",
       "      <td>NaN</td>\n",
       "      <td>NaN</td>\n",
       "      <td>...</td>\n",
       "      <td>NaN</td>\n",
       "      <td>NaN</td>\n",
       "      <td>NaN</td>\n",
       "      <td>NaN</td>\n",
       "      <td>NaN</td>\n",
       "      <td>NaN</td>\n",
       "      <td>NaN</td>\n",
       "      <td>NaN</td>\n",
       "      <td>NaN</td>\n",
       "      <td>NaN</td>\n",
       "    </tr>\n",
       "    <tr>\n",
       "      <th>10</th>\n",
       "      <td>NaN</td>\n",
       "      <td>2.5</td>\n",
       "      <td>4.0</td>\n",
       "      <td>NaN</td>\n",
       "      <td>3.0</td>\n",
       "      <td>NaN</td>\n",
       "      <td>4.0</td>\n",
       "      <td>NaN</td>\n",
       "      <td>2.0</td>\n",
       "      <td>NaN</td>\n",
       "      <td>...</td>\n",
       "      <td>3.0</td>\n",
       "      <td>NaN</td>\n",
       "      <td>NaN</td>\n",
       "      <td>NaN</td>\n",
       "      <td>NaN</td>\n",
       "      <td>NaN</td>\n",
       "      <td>NaN</td>\n",
       "      <td>4.0</td>\n",
       "      <td>3.0</td>\n",
       "      <td>NaN</td>\n",
       "    </tr>\n",
       "  </tbody>\n",
       "</table>\n",
       "<p>5 rows × 15000 columns</p>\n",
       "</div>"
      ],
      "text/plain": [
       "userId   7       11      54      58      69      82      91      104     \\\n",
       "movieId                                                                   \n",
       "2           NaN     NaN     3.0     NaN     NaN     NaN     3.5     NaN   \n",
       "4           NaN     NaN     NaN     NaN     NaN     NaN     NaN     NaN   \n",
       "6           NaN     NaN     3.0     4.5     4.0     NaN     NaN     NaN   \n",
       "7           3.0     NaN     NaN     NaN     NaN     NaN     2.5     NaN   \n",
       "10          NaN     2.5     4.0     NaN     3.0     NaN     4.0     NaN   \n",
       "\n",
       "userId   116     129     ...  138406  138414  138437  138454  138456  138457  \\\n",
       "movieId                  ...                                                   \n",
       "2           2.0     3.0  ...     3.0     NaN     NaN     NaN     3.0     NaN   \n",
       "4           NaN     NaN  ...     NaN     NaN     NaN     NaN     NaN     NaN   \n",
       "6           1.5     NaN  ...     NaN     NaN     4.0     4.0     NaN     NaN   \n",
       "7           NaN     NaN  ...     NaN     NaN     NaN     NaN     NaN     NaN   \n",
       "10          2.0     NaN  ...     3.0     NaN     NaN     NaN     NaN     NaN   \n",
       "\n",
       "userId   138472  138474  138483  138493  \n",
       "movieId                                  \n",
       "2           NaN     4.0     3.0     4.0  \n",
       "4           NaN     NaN     NaN     NaN  \n",
       "6           NaN     5.0     NaN     NaN  \n",
       "7           NaN     NaN     NaN     NaN  \n",
       "10          NaN     4.0     3.0     NaN  \n",
       "\n",
       "[5 rows x 15000 columns]"
      ]
     },
     "execution_count": 27,
     "metadata": {},
     "output_type": "execute_result"
    }
   ],
   "source": [
    "result2=data2.pivot_table('rating','movieId','userId')\n",
    "result2.head()"
   ]
  },
  {
   "cell_type": "code",
   "execution_count": 30,
   "metadata": {},
   "outputs": [],
   "source": [
    "'''predict matrix'''\n",
    "start2=time.time()\n",
    "df_result=predict(result2,10)\n",
    "end2=time.time()"
   ]
  },
  {
   "cell_type": "code",
   "execution_count": 32,
   "metadata": {},
   "outputs": [
    {
     "name": "stdout",
     "output_type": "stream",
     "text": [
      "8.03255330324173\n"
     ]
    }
   ],
   "source": [
    "'''running time'''\n",
    "run2=(end2-start2)/60\n",
    "print(run2)"
   ]
  },
  {
   "cell_type": "code",
   "execution_count": 33,
   "metadata": {},
   "outputs": [
    {
     "data": {
      "text/plain": [
       "[(54, 1200, 4.081000443927544),\n",
       " (54, 318, 4.407446539904147),\n",
       " (54, 3471, 3.8499206983891354),\n",
       " (54, 292, 3.1783216783216783),\n",
       " (54, 1197, 4.133459255261737)]"
      ]
     },
     "execution_count": 33,
     "metadata": {},
     "output_type": "execute_result"
    }
   ],
   "source": [
    "recommend(df_result, 5, 54)"
   ]
  },
  {
   "cell_type": "code",
   "execution_count": null,
   "metadata": {},
   "outputs": [],
   "source": [
    "'''change hyper parameter k (neighborhood size)'''\n",
    "metric2=tune_k(list_k)"
   ]
  },
  {
   "cell_type": "code",
   "execution_count": 115,
   "metadata": {},
   "outputs": [
    {
     "data": {
      "text/html": [
       "<div>\n",
       "<style scoped>\n",
       "    .dataframe tbody tr th:only-of-type {\n",
       "        vertical-align: middle;\n",
       "    }\n",
       "\n",
       "    .dataframe tbody tr th {\n",
       "        vertical-align: top;\n",
       "    }\n",
       "\n",
       "    .dataframe thead th {\n",
       "        text-align: right;\n",
       "    }\n",
       "</style>\n",
       "<table border=\"1\" class=\"dataframe\">\n",
       "  <thead>\n",
       "    <tr style=\"text-align: right;\">\n",
       "      <th></th>\n",
       "      <th>mse</th>\n",
       "      <th>ndcg</th>\n",
       "      <th>k</th>\n",
       "    </tr>\n",
       "  </thead>\n",
       "  <tbody>\n",
       "    <tr>\n",
       "      <th>0</th>\n",
       "      <td>1.665340</td>\n",
       "      <td>0.353869</td>\n",
       "      <td>5</td>\n",
       "    </tr>\n",
       "    <tr>\n",
       "      <th>1</th>\n",
       "      <td>1.609563</td>\n",
       "      <td>0.380762</td>\n",
       "      <td>10</td>\n",
       "    </tr>\n",
       "    <tr>\n",
       "      <th>2</th>\n",
       "      <td>1.445693</td>\n",
       "      <td>0.380926</td>\n",
       "      <td>50</td>\n",
       "    </tr>\n",
       "    <tr>\n",
       "      <th>3</th>\n",
       "      <td>1.504721</td>\n",
       "      <td>0.442990</td>\n",
       "      <td>100</td>\n",
       "    </tr>\n",
       "  </tbody>\n",
       "</table>\n",
       "</div>"
      ],
      "text/plain": [
       "        mse      ndcg    k\n",
       "0  1.665340  0.353869    5\n",
       "1  1.609563  0.380762   10\n",
       "2  1.445693  0.380926   50\n",
       "3  1.504721  0.442990  100"
      ]
     },
     "execution_count": 115,
     "metadata": {},
     "output_type": "execute_result"
    }
   ],
   "source": [
    "metric2=pd.DataFrame(metric2, columns=['mse','ndcg'])\n",
    "metric2['k']=list_k\n",
    "metric2"
   ]
  },
  {
   "cell_type": "code",
   "execution_count": 116,
   "metadata": {},
   "outputs": [
    {
     "data": {
      "image/png": "[encoded data removed]",
      "text/plain": [
       "<Figure size 432x288 with 1 Axes>"
      ]
     },
     "metadata": {
      "needs_background": "light"
     },
     "output_type": "display_data"
    }
   ],
   "source": [
    "plt.plot('k', 'mse', data=metric2, marker='', color='olive', linewidth=2, linestyle='dashed', label=\"mse\")\n",
    "plt.plot('k', 'ndcg', data=metric2, marker='', color='olive', linewidth=2, label=\"ndcg\")\n",
    "plt.legend()\n",
    "plt.show()"
   ]
  },
  {
   "cell_type": "markdown",
   "metadata": {},
   "source": [
    "Compare two graphs, as the sample size increases, the overall accuracy increases for larger k (we notice that mse decreases a lot and ndcg increases a lot)."
   ]
  },
  {
   "cell_type": "markdown",
   "metadata": {},
   "source": [
    "The distribution of accuracy is similar to smaller size data, but more accurate. We can notice that the second recommendation result has overall higher ratings than the first one."
   ]
  },
  {
   "cell_type": "markdown",
   "metadata": {},
   "source": [
    "The run-time increase as sample size increase. The smaller sample takes 4 min and larger sample takes 8 min. It is not linear relationship, the increase of running time is much bigger."
   ]
  },
  {
   "cell_type": "markdown",
   "metadata": {},
   "source": [
    "## Model-based (ALS)"
   ]
  },
  {
   "cell_type": "code",
   "execution_count": 12,
   "metadata": {},
   "outputs": [],
   "source": [
    "from sklearn.model_selection import KFold\n",
    "import pyspark\n",
    "import sys\n",
    "from pyspark.mllib.recommendation import ALS\n",
    "from pyspark.ml.evaluation import RegressionEvaluator\n",
    "from pyspark.mllib.evaluation import RankingMetrics,RegressionMetrics\n",
    "from pyspark.sql import SQLContext\n",
    "from pyspark import SparkConf, SparkContext\n",
    "from pyspark.sql import SparkSession"
   ]
  },
  {
   "cell_type": "code",
   "execution_count": 13,
   "metadata": {},
   "outputs": [],
   "source": [
    "'''\n",
    "setup Spark\n",
    "'''\n",
    "spark = SparkSession.builder.master(\"local\").appName(\"appname\").getOrCreate()"
   ]
  },
  {
   "cell_type": "markdown",
   "metadata": {},
   "source": [
    "### Model & Evaluation"
   ]
  },
  {
   "cell_type": "code",
   "execution_count": 14,
   "metadata": {},
   "outputs": [],
   "source": [
    "'''\n",
    "Predict ratings for each item and user in original dataframe.\n",
    "Input: original dataframe, degree, Iter, Param\n",
    "Output: trained model, mse & other data for further use\n",
    "'''\n",
    "\n",
    "def getMse(ccc, degree, Iter, Param):\n",
    "    time1 = time.time()\n",
    "    d1 = spark.createDataFrame(ccc)\n",
    "    (training, test) = d1.randomSplit([0.8, 0.2])\n",
    "    model = ALS.train(training,degree,Iter,Param)\n",
    "    testData = test.rdd.map(lambda p: (p.userId, p.movieId))\n",
    "    predictions = model.predictAll(testData).map(lambda rating:((rating.user,rating.product), rating.rating))\n",
    "    test1 = test.rdd.map(lambda p: ((p.userId, p.movieId),p.rating))\n",
    "    ratingsAndPredictions=test1.join(predictions)\n",
    "    predictionAndObservations = ratingsAndPredictions.map(lambda r:r[1]).map(lambda r:(r[1],r[0]))\n",
    "    metrics = RegressionMetrics(predictionAndObservations)\n",
    "    time2 = time.time()-time1\n",
    "    rec = model.recommendProductsForUsers(10)\n",
    "    rec1 = rec.map(lambda r:(r[0],[i.product for i in r[1]]))\n",
    "    \n",
    "    return (model,metrics.meanSquaredError,test1,rec1,time2)"
   ]
  },
  {
   "cell_type": "code",
   "execution_count": 15,
   "metadata": {},
   "outputs": [],
   "source": [
    "'''\n",
    "get ndcgAt(k) from ranking \n",
    "Input: an RDD of (predicted ranking, ground truth set) pairs \n",
    "Output: ndcgA(k)\n",
    "'''\n",
    "def getNdcg(rec1,test1,k):\n",
    "    time1 =time.time()\n",
    "    test2 = test1.map(lambda r:r[0])\n",
    "    test3 = test2.groupByKey().map(lambda x : (x[0], list(x[1])))\n",
    "    dtest = spark.createDataFrame(test3).withColumnRenamed(\"_1\",\"userId\").withColumnRenamed(\"_2\",\"movieId\")\n",
    "    drec = spark.createDataFrame(rec1).withColumnRenamed(\"_1\",\"userId\").withColumnRenamed(\"_2\",\"movie\")\n",
    "    left_join = drec.join(dtest, 'userId', 'left') # Could also use 'left_outer'\n",
    "    t1 = lambda x:[] if  x is  None else x\n",
    "\n",
    "    #ftest = left_join.rdd.map(lambda p: ([i.product for i in p.movie], t1(p.movieId)))\n",
    "    ftest = left_join.rdd.map(lambda p: (p.movie,p.movieId))\n",
    "    rmetrics = RankingMetrics(ftest)\n",
    "    time2 = time.time()-time1\n",
    "\n",
    "    return (rmetrics.ndcgAt(k),time2)"
   ]
  },
  {
   "cell_type": "markdown",
   "metadata": {},
   "source": [
    "### Recommend"
   ]
  },
  {
   "cell_type": "code",
   "execution_count": 16,
   "metadata": {},
   "outputs": [],
   "source": [
    "'''\n",
    "Use predicted data to recommend movies to a specific user\n",
    "Input: predicted data, userid, how many movies recommend to a user\n",
    "Output: userid, movieid, predicted rating\n",
    "'''\n",
    "def recommend2(model,userId,num):\n",
    "    try:\n",
    "        return model.recommendProducts(userId,num)\n",
    "    except:\n",
    "        return \"error userId maybe not in the model\""
   ]
  },
  {
   "cell_type": "code",
   "execution_count": 17,
   "metadata": {},
   "outputs": [],
   "source": [
    "'''\n",
    "Use cross validation to tune hyperparameter k (degree)\n",
    "Input: a list of k that we want to test\n",
    "Output: a metric, each row stands for each k, the first element is mean mse, the second element is mean ndcg\n",
    "'''\n",
    "def tune(ccc,n,list_k):\n",
    "    time3 = time.time()\n",
    "    metric=[]\n",
    "    \n",
    "    for k in list_k:\n",
    "        mselist = []\n",
    "        ndcglist = []\n",
    "        for i in range(n):\n",
    "            (model, mse, test1, rec1, time1) = getMse(ccc,k,10,0.01)\n",
    "            mselist.append(mse)\n",
    "            print(mselist)\n",
    "            (ndcg,time2) = getNdcg(rec1,test1,10)\n",
    "            ndcglist.append(ndcg)\n",
    "            print(ndcglist)\n",
    "        metric.append([sum(mselist)/len(mselist),sum(ndcglist)/len(ndcglist)])\n",
    "    return (metric,time.time()-time3)"
   ]
  },
  {
   "cell_type": "code",
   "execution_count": 15,
   "metadata": {},
   "outputs": [
    {
     "name": "stdout",
     "output_type": "stream",
     "text": [
      "[0.6518671727512199]\n",
      "[0.11787361331787358]\n",
      "[0.6127336807896789]\n",
      "[0.13042337674009863]\n",
      "[0.5914914522727006]\n",
      "[0.13211341283435032]\n",
      "[0.5815677202630529]\n",
      "[0.1295291336028196]\n"
     ]
    },
    {
     "data": {
      "text/plain": [
       "([[0.6518671727512199, 0.11787361331787358],\n",
       "  [0.6127336807896789, 0.13042337674009863],\n",
       "  [0.5914914522727006, 0.13211341283435032],\n",
       "  [0.5815677202630529, 0.1295291336028196]],\n",
       " 829.2484786510468)"
      ]
     },
     "execution_count": 15,
     "metadata": {},
     "output_type": "execute_result"
    }
   ],
   "source": [
    "'''change hyper parameter k (degree)'''\n",
    "klist = [2,4,6,8]\n",
    "result = tune(data.reset_index(drop = True),1,klist)\n",
    "result"
   ]
  },
  {
   "cell_type": "code",
   "execution_count": 16,
   "metadata": {},
   "outputs": [
    {
     "data": {
      "text/html": [
       "<div>\n",
       "<style scoped>\n",
       "    .dataframe tbody tr th:only-of-type {\n",
       "        vertical-align: middle;\n",
       "    }\n",
       "\n",
       "    .dataframe tbody tr th {\n",
       "        vertical-align: top;\n",
       "    }\n",
       "\n",
       "    .dataframe thead th {\n",
       "        text-align: right;\n",
       "    }\n",
       "</style>\n",
       "<table border=\"1\" class=\"dataframe\">\n",
       "  <thead>\n",
       "    <tr style=\"text-align: right;\">\n",
       "      <th></th>\n",
       "      <th>mse</th>\n",
       "      <th>ndcg</th>\n",
       "      <th>k</th>\n",
       "    </tr>\n",
       "  </thead>\n",
       "  <tbody>\n",
       "    <tr>\n",
       "      <th>0</th>\n",
       "      <td>0.651867</td>\n",
       "      <td>0.117874</td>\n",
       "      <td>2</td>\n",
       "    </tr>\n",
       "    <tr>\n",
       "      <th>1</th>\n",
       "      <td>0.612734</td>\n",
       "      <td>0.130423</td>\n",
       "      <td>4</td>\n",
       "    </tr>\n",
       "    <tr>\n",
       "      <th>2</th>\n",
       "      <td>0.591491</td>\n",
       "      <td>0.132113</td>\n",
       "      <td>6</td>\n",
       "    </tr>\n",
       "    <tr>\n",
       "      <th>3</th>\n",
       "      <td>0.581568</td>\n",
       "      <td>0.129529</td>\n",
       "      <td>8</td>\n",
       "    </tr>\n",
       "  </tbody>\n",
       "</table>\n",
       "</div>"
      ],
      "text/plain": [
       "        mse      ndcg  k\n",
       "0  0.651867  0.117874  2\n",
       "1  0.612734  0.130423  4\n",
       "2  0.591491  0.132113  6\n",
       "3  0.581568  0.129529  8"
      ]
     },
     "execution_count": 16,
     "metadata": {},
     "output_type": "execute_result"
    }
   ],
   "source": [
    "'''\n",
    "collect the mse and ndcg\n",
    "'''\n",
    "metric=result[0]\n",
    "metric=pd.DataFrame(metric, columns=['mse','ndcg'])\n",
    "metric['k']=klist\n",
    "metric"
   ]
  },
  {
   "cell_type": "code",
   "execution_count": 17,
   "metadata": {},
   "outputs": [
    {
     "data": {
      "image/png": "[encoded data removed]",
      "text/plain": [
       "<Figure size 432x288 with 1 Axes>"
      ]
     },
     "metadata": {
      "needs_background": "light"
     },
     "output_type": "display_data"
    }
   ],
   "source": [
    "plt.plot('k', 'mse', data=metric, marker='', color='olive', linewidth=2, linestyle='dashed', label=\"mse\")\n",
    "plt.plot('k', 'ndcg', data=metric, marker='', color='olive', linewidth=2, label=\"ndcg\")\n",
    "plt.legend()\n",
    "plt.show()"
   ]
  },
  {
   "cell_type": "code",
   "execution_count": 19,
   "metadata": {},
   "outputs": [
    {
     "data": {
      "text/plain": [
       "74.8125512599945"
      ]
     },
     "execution_count": 19,
     "metadata": {},
     "output_type": "execute_result"
    }
   ],
   "source": [
    "'''\n",
    "running time for prediction\n",
    "'''\n",
    "runningtime1 = getMse(data.reset_index(drop = True),6,10,0.01)[-1]\n",
    "runningtime1"
   ]
  },
  {
   "cell_type": "code",
   "execution_count": 18,
   "metadata": {},
   "outputs": [],
   "source": [
    "'''\n",
    "calculate coverage\n",
    "choose some number of user to calculate the coverage percentage\n",
    "if the recommend rating is greater then the threshold rating, then we see it as success\n",
    "'''\n",
    "def coverage2(number_user, threshold, number):\n",
    "    itr = 0\n",
    "    count1 = []\n",
    "    count2 = 0\n",
    "    count3 = 0\n",
    "    for i in number_user:\n",
    "        count1.append(0)\n",
    "        a = recommend2(model, i, 5)\n",
    "        for j in range(len(a)):\n",
    "            b = a[j]\n",
    "            if threshold <= b.rating:\n",
    "                count1[itr] += 1\n",
    "        for k in count1:\n",
    "            if count1[itr] >= number:\n",
    "                count2 += 1\n",
    "        itr +=1\n",
    "    for w in range(len(count1)):\n",
    "        if count1[w] >= number:\n",
    "            count3 += 1\n",
    "    return count3/len(number_user)"
   ]
  },
  {
   "cell_type": "code",
   "execution_count": 19,
   "metadata": {},
   "outputs": [],
   "source": [
    "result3 = getMse(data.reset_index(drop = True),6,10,0.01)\n",
    "(model,mse,test1,rec1,time2) = result3"
   ]
  },
  {
   "cell_type": "code",
   "execution_count": 20,
   "metadata": {},
   "outputs": [
    {
     "data": {
      "text/plain": [
       "0.86"
      ]
     },
     "execution_count": 20,
     "metadata": {},
     "output_type": "execute_result"
    }
   ],
   "source": [
    "id=list(df_result.columns)\n",
    "coverage2(id[0:100],4,3)"
   ]
  },
  {
   "cell_type": "markdown",
   "metadata": {},
   "source": [
    "### Larger dataset"
   ]
  },
  {
   "cell_type": "code",
   "execution_count": 20,
   "metadata": {},
   "outputs": [
    {
     "name": "stdout",
     "output_type": "stream",
     "text": [
      "[0.6524669850643859]\n",
      "[0.09421622568857552]\n",
      "[0.622872546040172]\n",
      "[0.09946724030710721]\n",
      "[0.608502544546211]\n",
      "[0.09247036995166348]\n",
      "[0.598535184409295]\n",
      "[0.09744825139711778]\n"
     ]
    },
    {
     "data": {
      "text/plain": [
       "([[0.6524669850643859, 0.09421622568857552],\n",
       "  [0.622872546040172, 0.09946724030710721],\n",
       "  [0.608502544546211, 0.09247036995166348],\n",
       "  [0.598535184409295, 0.09744825139711778]],\n",
       " 991.1522214412689)"
      ]
     },
     "execution_count": 20,
     "metadata": {},
     "output_type": "execute_result"
    }
   ],
   "source": [
    "klist = [2,4,6,8]\n",
    "result = tune(data2.reset_index(drop = True),1,klist)\n",
    "result"
   ]
  },
  {
   "cell_type": "code",
   "execution_count": 21,
   "metadata": {},
   "outputs": [
    {
     "data": {
      "text/html": [
       "<div>\n",
       "<style scoped>\n",
       "    .dataframe tbody tr th:only-of-type {\n",
       "        vertical-align: middle;\n",
       "    }\n",
       "\n",
       "    .dataframe tbody tr th {\n",
       "        vertical-align: top;\n",
       "    }\n",
       "\n",
       "    .dataframe thead th {\n",
       "        text-align: right;\n",
       "    }\n",
       "</style>\n",
       "<table border=\"1\" class=\"dataframe\">\n",
       "  <thead>\n",
       "    <tr style=\"text-align: right;\">\n",
       "      <th></th>\n",
       "      <th>mse</th>\n",
       "      <th>ndcg</th>\n",
       "      <th>k</th>\n",
       "    </tr>\n",
       "  </thead>\n",
       "  <tbody>\n",
       "    <tr>\n",
       "      <th>0</th>\n",
       "      <td>0.652467</td>\n",
       "      <td>0.094216</td>\n",
       "      <td>2</td>\n",
       "    </tr>\n",
       "    <tr>\n",
       "      <th>1</th>\n",
       "      <td>0.622873</td>\n",
       "      <td>0.099467</td>\n",
       "      <td>4</td>\n",
       "    </tr>\n",
       "    <tr>\n",
       "      <th>2</th>\n",
       "      <td>0.608503</td>\n",
       "      <td>0.092470</td>\n",
       "      <td>6</td>\n",
       "    </tr>\n",
       "    <tr>\n",
       "      <th>3</th>\n",
       "      <td>0.598535</td>\n",
       "      <td>0.097448</td>\n",
       "      <td>8</td>\n",
       "    </tr>\n",
       "  </tbody>\n",
       "</table>\n",
       "</div>"
      ],
      "text/plain": [
       "        mse      ndcg  k\n",
       "0  0.652467  0.094216  2\n",
       "1  0.622873  0.099467  4\n",
       "2  0.608503  0.092470  6\n",
       "3  0.598535  0.097448  8"
      ]
     },
     "execution_count": 21,
     "metadata": {},
     "output_type": "execute_result"
    }
   ],
   "source": [
    "'''\n",
    "collect the mse and ndcg\n",
    "'''\n",
    "metric=result[0]\n",
    "metric=pd.DataFrame(metric, columns=['mse','ndcg'])\n",
    "metric['k']=klist\n",
    "metric"
   ]
  },
  {
   "cell_type": "code",
   "execution_count": 22,
   "metadata": {},
   "outputs": [
    {
     "data": {
      "image/png": "[encoded data removed]",
      "text/plain": [
       "<Figure size 432x288 with 1 Axes>"
      ]
     },
     "metadata": {
      "needs_background": "light"
     },
     "output_type": "display_data"
    }
   ],
   "source": [
    "plt.plot('k', 'mse', data=metric, marker='', color='olive', linewidth=2, linestyle='dashed', label=\"mse\")\n",
    "plt.plot('k', 'ndcg', data=metric, marker='', color='olive', linewidth=2, label=\"ndcg\")\n",
    "plt.legend()\n",
    "plt.show()"
   ]
  },
  {
   "cell_type": "code",
   "execution_count": 24,
   "metadata": {},
   "outputs": [
    {
     "data": {
      "text/plain": [
       "88.39221334457397"
      ]
     },
     "execution_count": 24,
     "metadata": {},
     "output_type": "execute_result"
    }
   ],
   "source": [
    "'''\n",
    "running time for prediction\n",
    "'''\n",
    "runningtime2 = getMse(data.reset_index(drop = True),8,10,0.01)[-1]\n",
    "runningtime2"
   ]
  },
  {
   "cell_type": "markdown",
   "metadata": {},
   "source": [
    "### More detail info in write_up.pdf "
   ]
  }
 ],
 "metadata": {
  "kernelspec": {
   "display_name": "Python 3",
   "language": "python",
   "name": "python3"
  },
  "language_info": {
   "codemirror_mode": {
    "name": "ipython",
    "version": 3
   },
   "file_extension": ".py",
   "mimetype": "text/x-python",
   "name": "python",
   "nbconvert_exporter": "python",
   "pygments_lexer": "ipython3",
   "version": "3.7.3"
  }
 },
 "nbformat": 4,
 "nbformat_minor": 2
}
